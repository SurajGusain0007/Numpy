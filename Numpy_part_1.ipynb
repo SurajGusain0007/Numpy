{
  "nbformat": 4,
  "nbformat_minor": 0,
  "metadata": {
    "colab": {
      "provenance": [],
      "authorship_tag": "ABX9TyPUHwgso/UIceMfAmKvGJZl",
      "include_colab_link": true
    },
    "kernelspec": {
      "name": "python3",
      "display_name": "Python 3"
    },
    "language_info": {
      "name": "python"
    }
  },
  "cells": [
    {
      "cell_type": "markdown",
      "metadata": {
        "id": "view-in-github",
        "colab_type": "text"
      },
      "source": [
        "<a href=\"https://colab.research.google.com/github/SurajGusain0007/Numpy/blob/main/Numpy_part_1.ipynb\" target=\"_parent\"><img src=\"https://colab.research.google.com/assets/colab-badge.svg\" alt=\"Open In Colab\"/></a>"
      ]
    },
    {
      "cell_type": "code",
      "execution_count": null,
      "metadata": {
        "id": "6852IOvj4Ilz"
      },
      "outputs": [],
      "source": [
        "# Now we will create a numpy  ndarray object\n",
        "#the array object in numpy is call ndarry\n",
        "#array()"
      ]
    },
    {
      "cell_type": "code",
      "source": [
        "import numpy as np\n",
        "x=np.array([1,2,3,4,5])\n",
        "print(x)\n",
        "print(type(x))"
      ],
      "metadata": {
        "colab": {
          "base_uri": "https://localhost:8080/"
        },
        "id": "wU3khvIT4TE-",
        "outputId": "a6528bd6-0950-4bc6-f325-6ad6de651aa2"
      },
      "execution_count": null,
      "outputs": [
        {
          "output_type": "stream",
          "name": "stdout",
          "text": [
            "[1 2 3 4 5]\n",
            "<class 'numpy.ndarray'>\n"
          ]
        }
      ]
    },
    {
      "cell_type": "code",
      "source": [
        "#We can also pass a list,tuple or any array like object and it will be converted to ndarray\n",
        "y=np.array((1,2,3,4,5))\n",
        "print(y)\n",
        "print((type(y)))"
      ],
      "metadata": {
        "colab": {
          "base_uri": "https://localhost:8080/"
        },
        "id": "IFupQsqQ4XqO",
        "outputId": "4083cf05-5799-4b8b-d07a-28579fc0c130"
      },
      "execution_count": null,
      "outputs": [
        {
          "output_type": "stream",
          "name": "stdout",
          "text": [
            "[1 2 3 4 5]\n",
            "<class 'numpy.ndarray'>\n"
          ]
        }
      ]
    },
    {
      "cell_type": "code",
      "source": [
        "#Dimensions in array\n",
        "# A dimensions in Array is one level of array depth(nested array)\n",
        "#0-D-Scalars ,are the elements in an array,each value in an array is a 0-d array\n",
        "# Now we will create 0-D array with 42\n",
        "x=np.array(42)\n",
        "print(x)\n",
        "print(type(x))"
      ],
      "metadata": {
        "colab": {
          "base_uri": "https://localhost:8080/"
        },
        "id": "wcdII7O24YBu",
        "outputId": "123605eb-042c-4a25-ea1f-ac68c4621792"
      },
      "execution_count": null,
      "outputs": [
        {
          "output_type": "stream",
          "name": "stdout",
          "text": [
            "42\n",
            "<class 'numpy.ndarray'>\n"
          ]
        }
      ]
    },
    {
      "cell_type": "code",
      "source": [
        "#1-d array-an array that has 0-d array as its elements is called 1-d array\n",
        "#or collection of 0-d array also called 1-D array\n",
        "y=np.array([1,2,3,4,5])\n",
        "print(y)\n"
      ],
      "metadata": {
        "colab": {
          "base_uri": "https://localhost:8080/"
        },
        "id": "QZmYp03c4YVR",
        "outputId": "60353b92-977e-4183-be50-232dbd26465d"
      },
      "execution_count": null,
      "outputs": [
        {
          "output_type": "stream",
          "name": "stdout",
          "text": [
            "[1 2 3 4 5]\n"
          ]
        }
      ]
    },
    {
      "cell_type": "code",
      "source": [
        "#2-d array\n",
        "z=np.array([[1,2,3,4,5],[7,8,9,10,11]])\n",
        "print(z)\n",
        "print(type(z))"
      ],
      "metadata": {
        "colab": {
          "base_uri": "https://localhost:8080/"
        },
        "id": "QrdaDClF6yet",
        "outputId": "e24b84e8-6b68-4428-9d11-a971a8967e82"
      },
      "execution_count": null,
      "outputs": [
        {
          "output_type": "stream",
          "name": "stdout",
          "text": [
            "[[ 1  2  3  4  5]\n",
            " [ 7  8  9 10 11]]\n",
            "<class 'numpy.ndarray'>\n"
          ]
        }
      ]
    },
    {
      "cell_type": "code",
      "source": [
        "# we will create a 3-D array with two 2-D array3-d array or collection of 2-d array\n",
        "x=np.array([[[1,2,3,4],[5,6,7,8]],\n",
        "           [[11,12,13,14],[15,16,17,18]]])\n",
        "print(x)"
      ],
      "metadata": {
        "colab": {
          "base_uri": "https://localhost:8080/"
        },
        "id": "-aPrmyd98S--",
        "outputId": "b5477efb-ca54-4788-d546-5f4f851c705f"
      },
      "execution_count": null,
      "outputs": [
        {
          "output_type": "stream",
          "name": "stdout",
          "text": [
            "[[[ 1  2  3  4]\n",
            "  [ 5  6  7  8]]\n",
            "\n",
            " [[11 12 13 14]\n",
            "  [15 16 17 18]]]\n"
          ]
        }
      ]
    },
    {
      "cell_type": "code",
      "source": [
        "# Check how many dimensions the array have\n",
        "a=np.array(12)\n",
        "b=np.array([1,2,3,4])\n",
        "c=np.array([[1,2,3,4],[5,6,7,8]])\n",
        "d=np.array([[[1,2,3,4],[5,6,7,8]]\n",
        "            ,[[11,12,13,14],[15,16,17,18]]])\n",
        "print(a.ndim)\n",
        "print(b.ndim)\n",
        "print(c.ndim)\n",
        "print(d.ndim)"
      ],
      "metadata": {
        "colab": {
          "base_uri": "https://localhost:8080/"
        },
        "id": "7bHawi-d85fv",
        "outputId": "a152ae98-f820-4a1f-edf7-976ad1f9d444"
      },
      "execution_count": null,
      "outputs": [
        {
          "output_type": "stream",
          "name": "stdout",
          "text": [
            "0\n",
            "1\n",
            "2\n",
            "3\n"
          ]
        }
      ]
    },
    {
      "cell_type": "code",
      "source": [
        "#create an array with 5 dim and verify that it has\n",
        "x=np.array([1,2,3,4,5],ndmin=5)\n",
        "print(x)\n",
        "print(\"No of dimension\",x.ndim)"
      ],
      "metadata": {
        "colab": {
          "base_uri": "https://localhost:8080/"
        },
        "id": "FBWSAa2S9xU2",
        "outputId": "f143e520-3a7c-4035-f119-422b1fbf8080"
      },
      "execution_count": null,
      "outputs": [
        {
          "output_type": "stream",
          "name": "stdout",
          "text": [
            "[[[[[1 2 3 4 5]]]]]\n",
            "No of dimension 5\n"
          ]
        }
      ]
    },
    {
      "cell_type": "code",
      "source": [
        "x=np.array([[1,2,3,4,5],[6,7,8,9,10]],ndmin=5)\n",
        "print(x)\n",
        "print(\"No of dimension\",x.ndim)"
      ],
      "metadata": {
        "colab": {
          "base_uri": "https://localhost:8080/"
        },
        "id": "V3xOWY4p-LRw",
        "outputId": "5d8f551c-b891-47b1-919c-c15e587db770"
      },
      "execution_count": null,
      "outputs": [
        {
          "output_type": "stream",
          "name": "stdout",
          "text": [
            "[[[[[ 1  2  3  4  5]\n",
            "    [ 6  7  8  9 10]]]]]\n",
            "No of dimension 5\n"
          ]
        }
      ]
    },
    {
      "cell_type": "code",
      "source": [
        "# 1- DArray Indexing is the same as accessing an array element\n",
        "#start with 0\n",
        "x=np.array([1,2,3,4])\n",
        "print(x[0])\n",
        "print(x[2])\n",
        "print(x[3])"
      ],
      "metadata": {
        "colab": {
          "base_uri": "https://localhost:8080/"
        },
        "id": "xKWmn3m8_R7T",
        "outputId": "d1cc1800-4b42-4067-cf0f-e93d08d7c125"
      },
      "execution_count": null,
      "outputs": [
        {
          "output_type": "stream",
          "name": "stdout",
          "text": [
            "1\n",
            "3\n",
            "4\n"
          ]
        }
      ]
    },
    {
      "cell_type": "code",
      "source": [
        "# We can get the third element and fourth elements fron adding them\n",
        "x=np.array([1,2,3,4])\n",
        "print(x[1]+x[2])"
      ],
      "metadata": {
        "colab": {
          "base_uri": "https://localhost:8080/"
        },
        "id": "IsrukYHZ_lCK",
        "outputId": "0593699f-1149-42b1-b4fc-5dda28804ce0"
      },
      "execution_count": null,
      "outputs": [
        {
          "output_type": "stream",
          "name": "stdout",
          "text": [
            "5\n"
          ]
        }
      ]
    },
    {
      "cell_type": "code",
      "source": [
        "# Accessing the 2-D array it is like rows and columns\n",
        "x=np.array([[1,2,3,4],[5,6,7,8]])\n",
        "print(x)"
      ],
      "metadata": {
        "colab": {
          "base_uri": "https://localhost:8080/"
        },
        "id": "KoPN38Pf_8Zr",
        "outputId": "c7d56ab1-dbe1-4375-9d19-026a6a58c353"
      },
      "execution_count": null,
      "outputs": [
        {
          "output_type": "stream",
          "name": "stdout",
          "text": [
            "[[1 2 3 4]\n",
            " [5 6 7 8]]\n"
          ]
        }
      ]
    },
    {
      "cell_type": "code",
      "source": [
        "#print 2nd element in the ist row\n",
        "print(x[0][2])\n",
        "print(x[0,2])"
      ],
      "metadata": {
        "colab": {
          "base_uri": "https://localhost:8080/"
        },
        "id": "XEsSmLVoAKrn",
        "outputId": "b4d91e1f-6ee3-49cf-ec1b-8b0e284dd686"
      },
      "execution_count": null,
      "outputs": [
        {
          "output_type": "stream",
          "name": "stdout",
          "text": [
            "3\n",
            "3\n"
          ]
        }
      ]
    },
    {
      "cell_type": "code",
      "source": [
        "x=np.array([[[1,2,3,4],[5,6,7,8]],\n",
        "           [[11,12,13,14],[15,16,17,18]]])\n",
        "print(x)"
      ],
      "metadata": {
        "colab": {
          "base_uri": "https://localhost:8080/"
        },
        "id": "DTW6fkjj_8bu",
        "outputId": "dd11ba7f-9ef8-4e48-82ae-5119a15fa7f5"
      },
      "execution_count": null,
      "outputs": [
        {
          "output_type": "stream",
          "name": "stdout",
          "text": [
            "[[[ 1  2  3  4]\n",
            "  [ 5  6  7  8]]\n",
            "\n",
            " [[11 12 13 14]\n",
            "  [15 16 17 18]]]\n"
          ]
        }
      ]
    },
    {
      "cell_type": "code",
      "source": [
        "#accessing the 3-d array\n",
        "#print 6 and 18\n",
        "print(x[0][1][1])\n",
        "print(x[1][1][3])"
      ],
      "metadata": {
        "colab": {
          "base_uri": "https://localhost:8080/"
        },
        "id": "e2FHCk43_8eQ",
        "outputId": "dc7813d1-bd7a-4caa-ad6a-a45ac351d849"
      },
      "execution_count": null,
      "outputs": [
        {
          "output_type": "stream",
          "name": "stdout",
          "text": [
            "6\n",
            "18\n"
          ]
        }
      ]
    },
    {
      "cell_type": "code",
      "source": [
        "# Slicing chapter-3\n",
        "#slicing array-slicing in python means takeing elements from one given to another given"
      ],
      "metadata": {
        "id": "-Njuo9Li_8hp"
      },
      "execution_count": null,
      "outputs": []
    },
    {
      "cell_type": "code",
      "source": [
        "#[start:end],[start:end:step]\n",
        "#now we will slice an element from 1 to 5\n",
        "x=np.array([1,2,3,4,5,6,7,8,9])\n",
        "print(x)\n",
        "print(x[1:5])\n",
        "print(x[2:7])\n",
        "print(x[1:6:2])\n",
        "print(x[4:])\n",
        "print(x[:5])\n"
      ],
      "metadata": {
        "colab": {
          "base_uri": "https://localhost:8080/"
        },
        "id": "CaGrr95WBduY",
        "outputId": "cb839d9c-6c22-4ae8-faa7-8e86438d1fcd"
      },
      "execution_count": null,
      "outputs": [
        {
          "output_type": "stream",
          "name": "stdout",
          "text": [
            "[1 2 3 4 5 6 7 8 9]\n",
            "[2 3 4 5]\n",
            "[3 4 5 6 7]\n",
            "[2 4 6]\n",
            "[5 6 7 8 9]\n",
            "[1 2 3 4 5]\n"
          ]
        }
      ]
    },
    {
      "cell_type": "code",
      "source": [
        "#negative slicing\n",
        "print(x[-3:-1])\n",
        "print(x[:-2])"
      ],
      "metadata": {
        "colab": {
          "base_uri": "https://localhost:8080/"
        },
        "id": "_zKihZk9CVtd",
        "outputId": "1a8697a4-f326-4781-cf1e-1b127953ebda"
      },
      "execution_count": null,
      "outputs": [
        {
          "output_type": "stream",
          "name": "stdout",
          "text": [
            "[7 8]\n",
            "[1 2 3 4 5 6 7]\n"
          ]
        }
      ]
    },
    {
      "cell_type": "code",
      "source": [
        "#step:you will step the value to determine the step of the slicing\n",
        "#return every other value from index 1 to 5\n",
        "x=np.array([1,23,4,5,6])\n",
        "print(x[1:4:3])\n",
        "print(x[::2])"
      ],
      "metadata": {
        "colab": {
          "base_uri": "https://localhost:8080/"
        },
        "id": "pfN9VE6kC4hv",
        "outputId": "d7d2ecb3-8a9b-451a-d394-c92704e385b7"
      },
      "execution_count": null,
      "outputs": [
        {
          "output_type": "stream",
          "name": "stdout",
          "text": [
            "[23]\n",
            "[1 4 6]\n"
          ]
        }
      ]
    },
    {
      "cell_type": "code",
      "source": [
        "#Slicing in 2d array\n",
        "x=np.array([[1,2,3,4],[5,6,7,8]])\n",
        "print(x)\n"
      ],
      "metadata": {
        "colab": {
          "base_uri": "https://localhost:8080/"
        },
        "id": "-z59T93CDj20",
        "outputId": "f9eaa4c0-7c92-4863-865e-ad4850c2474f"
      },
      "execution_count": null,
      "outputs": [
        {
          "output_type": "stream",
          "name": "stdout",
          "text": [
            "[[1 2 3 4]\n",
            " [5 6 7 8]]\n"
          ]
        }
      ]
    },
    {
      "cell_type": "code",
      "source": [
        "#slicing in 2d-array\n",
        "print(x[1,1:3])\n",
        "print(x[0,1:3])\n",
        "print(x[1,2:4:2])\n"
      ],
      "metadata": {
        "colab": {
          "base_uri": "https://localhost:8080/"
        },
        "id": "0yGu4h4ZDskc",
        "outputId": "239cf23d-8751-412e-c44c-2dc7c072c80b"
      },
      "execution_count": null,
      "outputs": [
        {
          "output_type": "stream",
          "name": "stdout",
          "text": [
            "[6 7]\n",
            "[2 3]\n",
            "[7]\n"
          ]
        }
      ]
    },
    {
      "cell_type": "code",
      "source": [
        "# another example\n",
        "print(x[0:2,2])\n",
        "print(x[0:2,1:4])"
      ],
      "metadata": {
        "colab": {
          "base_uri": "https://localhost:8080/"
        },
        "id": "wuzIM-FEFFZA",
        "outputId": "c9f54234-301a-4fae-edc0-d0635e9c0c8d"
      },
      "execution_count": null,
      "outputs": [
        {
          "output_type": "stream",
          "name": "stdout",
          "text": [
            "[3 7]\n",
            "[[2 3 4]\n",
            " [6 7 8]]\n"
          ]
        }
      ]
    },
    {
      "cell_type": "code",
      "source": [
        "#slicing in 3 d array\n",
        "x=np.array([[[1,2,3,4],[5,6,7,8]],\n",
        "           [[11,12,13,14],[15,16,17,18]]])\n",
        "print(x)\n",
        "print(x.ndim)"
      ],
      "metadata": {
        "colab": {
          "base_uri": "https://localhost:8080/"
        },
        "id": "Fv5aR-P8Dbd0",
        "outputId": "eb3827f6-cc51-4ed7-e0ec-d09e32a3557b"
      },
      "execution_count": null,
      "outputs": [
        {
          "output_type": "stream",
          "name": "stdout",
          "text": [
            "[[[ 1  2  3  4]\n",
            "  [ 5  6  7  8]]\n",
            "\n",
            " [[11 12 13 14]\n",
            "  [15 16 17 18]]]\n",
            "3\n"
          ]
        }
      ]
    },
    {
      "cell_type": "code",
      "source": [
        "#slicing in 3 d array\n",
        "print(x[0,1,1:3])\n",
        "print(x[1,1,2:4])"
      ],
      "metadata": {
        "colab": {
          "base_uri": "https://localhost:8080/"
        },
        "id": "n3GnyJkyDd5K",
        "outputId": "b781e654-883e-46d3-d3c5-db4319f005d2"
      },
      "execution_count": null,
      "outputs": [
        {
          "output_type": "stream",
          "name": "stdout",
          "text": [
            "[6 7]\n",
            "[17 18]\n"
          ]
        }
      ]
    },
    {
      "cell_type": "code",
      "source": [
        "#slicing in 4-d array\n",
        "x=np.array([[12,13,14,15],[1,2,3,4]],ndmin=4)\n",
        "print(x)"
      ],
      "metadata": {
        "colab": {
          "base_uri": "https://localhost:8080/"
        },
        "id": "HcD5HaSnGaoR",
        "outputId": "5f9621eb-2d82-4c93-a762-9b434ff8f4ad"
      },
      "execution_count": null,
      "outputs": [
        {
          "output_type": "stream",
          "name": "stdout",
          "text": [
            "[[[[12 13 14 15]\n",
            "   [ 1  2  3  4]]]]\n"
          ]
        }
      ]
    },
    {
      "cell_type": "code",
      "source": [
        "#slicing\n",
        "print(x[0,0,1,1:3])"
      ],
      "metadata": {
        "colab": {
          "base_uri": "https://localhost:8080/"
        },
        "id": "xu3k65X4Gq3r",
        "outputId": "dea45279-9862-4663-d1c9-814de78f2b20"
      },
      "execution_count": null,
      "outputs": [
        {
          "output_type": "stream",
          "name": "stdout",
          "text": [
            "[2 3]\n"
          ]
        }
      ]
    },
    {
      "cell_type": "code",
      "source": [
        "# Data types ch-4\n",
        "#data types in numpy\n",
        "# 1.Int\n",
        "#2.b for boolen,u for unsigned integer,f for float,complex float, m fortimedelta,datetime\n",
        "#o for object ,s for string,u for unicode, v for memory"
      ],
      "metadata": {
        "id": "t3zn0EYjHT-5"
      },
      "execution_count": null,
      "outputs": []
    },
    {
      "cell_type": "code",
      "source": [
        "# checking the data type of numpy array dtype\n",
        "x=np.array([1,2,3,4,5,8,9,10,9,10])\n",
        "print(x.dtype)"
      ],
      "metadata": {
        "colab": {
          "base_uri": "https://localhost:8080/"
        },
        "id": "K2M0YQmTHUBJ",
        "outputId": "5a9b8d2c-4b01-4eb1-91ca-f33d8e81e59f"
      },
      "execution_count": null,
      "outputs": [
        {
          "output_type": "stream",
          "name": "stdout",
          "text": [
            "int64\n"
          ]
        }
      ]
    },
    {
      "cell_type": "code",
      "source": [
        "y=np.array(['apple','banana',\"orange\"])\n",
        "print(y.dtype)"
      ],
      "metadata": {
        "colab": {
          "base_uri": "https://localhost:8080/"
        },
        "id": "t4OQtrGVITgY",
        "outputId": "4d39d291-3d47-4523-ad26-be20a565e1ec"
      },
      "execution_count": null,
      "outputs": [
        {
          "output_type": "stream",
          "name": "stdout",
          "text": [
            "<U6\n"
          ]
        }
      ]
    },
    {
      "cell_type": "code",
      "source": [
        "# creating an array a defined data type:\n",
        "x=np.array([1,2,3,4],dtype=\"S\")\n",
        "print(x)\n",
        "print(x.dtype)"
      ],
      "metadata": {
        "colab": {
          "base_uri": "https://localhost:8080/"
        },
        "id": "NrNho9TpIgUx",
        "outputId": "028932db-0d6a-4e3a-e7ae-afbea434c8f4"
      },
      "execution_count": null,
      "outputs": [
        {
          "output_type": "stream",
          "name": "stdout",
          "text": [
            "[b'1' b'2' b'3' b'4']\n",
            "|S1\n"
          ]
        }
      ]
    },
    {
      "cell_type": "code",
      "source": [
        "x=np.array([1,2,3,4],dtype=\"i4\")\n",
        "print(x)\n",
        "print(x.dtype)"
      ],
      "metadata": {
        "colab": {
          "base_uri": "https://localhost:8080/"
        },
        "id": "cFANgAoNJZ38",
        "outputId": "230c96f3-7183-4c29-833f-12dd2b6aaebf"
      },
      "execution_count": null,
      "outputs": [
        {
          "output_type": "stream",
          "name": "stdout",
          "text": [
            "[1 2 3 4]\n",
            "int32\n"
          ]
        }
      ]
    },
    {
      "cell_type": "code",
      "source": [
        "# if a type is given in which the lements cannot be casted then numpy  \n",
        "# will raise error.What if value cannot be converted"
      ],
      "metadata": {
        "id": "ba1ic8SvJZ7m"
      },
      "execution_count": null,
      "outputs": []
    },
    {
      "cell_type": "code",
      "source": [
        "x=np.array([1,2,'a'],dtype='i')\n",
        "print(x)"
      ],
      "metadata": {
        "colab": {
          "base_uri": "https://localhost:8080/",
          "height": 182
        },
        "id": "UeYPMrYyJZ-_",
        "outputId": "7be656b4-986e-4f29-c933-94e45c676e68"
      },
      "execution_count": null,
      "outputs": [
        {
          "output_type": "error",
          "ename": "ValueError",
          "evalue": "ignored",
          "traceback": [
            "\u001b[0;31m---------------------------------------------------------------------------\u001b[0m",
            "\u001b[0;31mValueError\u001b[0m                                Traceback (most recent call last)",
            "\u001b[0;32m<ipython-input-63-94be5bf725ae>\u001b[0m in \u001b[0;36m<module>\u001b[0;34m\u001b[0m\n\u001b[0;32m----> 1\u001b[0;31m \u001b[0mx\u001b[0m\u001b[0;34m=\u001b[0m\u001b[0mnp\u001b[0m\u001b[0;34m.\u001b[0m\u001b[0marray\u001b[0m\u001b[0;34m(\u001b[0m\u001b[0;34m[\u001b[0m\u001b[0;36m1\u001b[0m\u001b[0;34m,\u001b[0m\u001b[0;36m2\u001b[0m\u001b[0;34m,\u001b[0m\u001b[0;34m'a'\u001b[0m\u001b[0;34m]\u001b[0m\u001b[0;34m,\u001b[0m\u001b[0mdtype\u001b[0m\u001b[0;34m=\u001b[0m\u001b[0;34m'i'\u001b[0m\u001b[0;34m)\u001b[0m\u001b[0;34m\u001b[0m\u001b[0;34m\u001b[0m\u001b[0m\n\u001b[0m\u001b[1;32m      2\u001b[0m \u001b[0mprint\u001b[0m\u001b[0;34m(\u001b[0m\u001b[0mx\u001b[0m\u001b[0;34m)\u001b[0m\u001b[0;34m\u001b[0m\u001b[0;34m\u001b[0m\u001b[0m\n",
            "\u001b[0;31mValueError\u001b[0m: invalid literal for int() with base 10: 'a'"
          ]
        }
      ]
    },
    {
      "cell_type": "code",
      "source": [
        "#converting data type in existing array-()\n",
        "x=np.array([1.1,2.2,3.4])\n",
        "y=x.astype(\"i\")\n",
        "print(x)\n",
        "print(x.dtype)\n",
        "print(y)\n",
        "print(y.dtype)"
      ],
      "metadata": {
        "colab": {
          "base_uri": "https://localhost:8080/"
        },
        "id": "FlMpDoNdIgYH",
        "outputId": "8fdb684a-15d2-429b-b497-5dc3f3dc38d3"
      },
      "execution_count": null,
      "outputs": [
        {
          "output_type": "stream",
          "name": "stdout",
          "text": [
            "[1.1 2.2 3.4]\n",
            "float64\n",
            "[1 2 3]\n",
            "int32\n"
          ]
        }
      ]
    },
    {
      "cell_type": "code",
      "source": [
        "#Numpy array copy and view\n",
        "# We will make an cpy,change in original array and display both\n"
      ],
      "metadata": {
        "id": "dNFB5DtNJ_ks"
      },
      "execution_count": null,
      "outputs": []
    },
    {
      "cell_type": "code",
      "source": [
        "x=np.array([1,2,3,4,5])\n",
        "x1=x.copy()\n",
        "x[0]=42\n",
        "print(x)\n",
        "print(x1)"
      ],
      "metadata": {
        "colab": {
          "base_uri": "https://localhost:8080/"
        },
        "id": "hQxqVM2RIgbj",
        "outputId": "9bc3f222-bfc8-4adb-e427-e9b3a7b0641b"
      },
      "execution_count": null,
      "outputs": [
        {
          "output_type": "stream",
          "name": "stdout",
          "text": [
            "[42  2  3  4  5]\n",
            "[1 2 3 4 5]\n"
          ]
        }
      ]
    },
    {
      "cell_type": "code",
      "source": [
        "# now we will make a view,display both\n",
        "y=np.array([1,2,3,4,5])\n",
        "y1=y.view()\n",
        "y[0]=34\n",
        "print(y)\n",
        "print(y1)"
      ],
      "metadata": {
        "colab": {
          "base_uri": "https://localhost:8080/"
        },
        "id": "3nzgf0tFHUDq",
        "outputId": "93d2996b-04b0-4e26-b0f0-c4dadfcfd72e"
      },
      "execution_count": null,
      "outputs": [
        {
          "output_type": "stream",
          "name": "stdout",
          "text": [
            "[34  2  3  4  5]\n",
            "[34  2  3  4  5]\n"
          ]
        }
      ]
    },
    {
      "cell_type": "code",
      "source": [
        "# Shape of an array--The no. of element in each dimension\n",
        "x=np.array([[1,2,3,4],[5,6,7,8]])\n",
        "print(x)\n",
        "print(x.shape)"
      ],
      "metadata": {
        "colab": {
          "base_uri": "https://localhost:8080/"
        },
        "id": "mtukWmqYHUHI",
        "outputId": "fc7230e4-cfb1-4a93-b5ff-73c40c3bc790"
      },
      "execution_count": null,
      "outputs": [
        {
          "output_type": "stream",
          "name": "stdout",
          "text": [
            "[[1 2 3 4]\n",
            " [5 6 7 8]]\n",
            "(2, 4)\n"
          ]
        }
      ]
    },
    {
      "cell_type": "code",
      "source": [
        "# 2,4( which means the array jhas 2 dimension and it has 4 )"
      ],
      "metadata": {
        "id": "PmGkc6roTD2n"
      },
      "execution_count": null,
      "outputs": []
    },
    {
      "cell_type": "code",
      "source": [
        "#now we will create 5-D array us ndmin\n",
        "y=np.array([1,2,3,4],ndmin=5)\n",
        "print(y)\n",
        "print(y.shape)"
      ],
      "metadata": {
        "colab": {
          "base_uri": "https://localhost:8080/"
        },
        "id": "Pl3eW-ICTLtC",
        "outputId": "2271d147-9c6c-40d8-e358-8b200849dc51"
      },
      "execution_count": null,
      "outputs": [
        {
          "output_type": "stream",
          "name": "stdout",
          "text": [
            "[[[[[1 2 3 4]]]]]\n",
            "(1, 1, 1, 1, 4)\n"
          ]
        }
      ]
    },
    {
      "cell_type": "code",
      "source": [
        "x=np.array([[12,13,14,15],[1,2,3,4]],ndmin=4)\n",
        "print(x)\n",
        "print(x.shape)"
      ],
      "metadata": {
        "colab": {
          "base_uri": "https://localhost:8080/"
        },
        "id": "j0vZPuGPUMXT",
        "outputId": "b5e53c24-1f25-4fed-94ff-712b92d5643b"
      },
      "execution_count": null,
      "outputs": [
        {
          "output_type": "stream",
          "name": "stdout",
          "text": [
            "[[[[12 13 14 15]\n",
            "   [ 1  2  3  4]]]]\n",
            "(1, 1, 2, 4)\n"
          ]
        }
      ]
    },
    {
      "cell_type": "code",
      "source": [
        "#Reshaing array-means changing the shape of an array,like adding or removing the elements\n",
        "#reshaping from 1-D to 2-D array\n",
        "x=np.array([1,2,3,4,5,6,7,8,9,10,11,12])\n",
        "y=x.reshape(4,3)\n",
        "print(y)"
      ],
      "metadata": {
        "colab": {
          "base_uri": "https://localhost:8080/"
        },
        "id": "4BoDoWaxUprG",
        "outputId": "6fce7ea9-4542-419d-b175-e671e891958e"
      },
      "execution_count": null,
      "outputs": [
        {
          "output_type": "stream",
          "name": "stdout",
          "text": [
            "[[ 1  2  3]\n",
            " [ 4  5  6]\n",
            " [ 7  8  9]\n",
            " [10 11 12]]\n"
          ]
        }
      ]
    },
    {
      "cell_type": "code",
      "source": [
        "# reshaping from 1- D to    3-d\n",
        "x=np.array([1,2,3,4,5,6,7,8,9,10,11,12])\n",
        "y=x.reshape(3,2,2)\n",
        "print(y)\n",
        "print(y[0,1,0:])\n",
        "print(y[1,0,0:])"
      ],
      "metadata": {
        "colab": {
          "base_uri": "https://localhost:8080/"
        },
        "id": "6B-GIddMWx29",
        "outputId": "d9b5259b-c1fb-4e20-ae91-785582653bb9"
      },
      "execution_count": null,
      "outputs": [
        {
          "output_type": "stream",
          "name": "stdout",
          "text": [
            "[[[ 1  2]\n",
            "  [ 3  4]]\n",
            "\n",
            " [[ 5  6]\n",
            "  [ 7  8]]\n",
            "\n",
            " [[ 9 10]\n",
            "  [11 12]]]\n",
            "[3 4]\n",
            "[5 6]\n"
          ]
        }
      ]
    },
    {
      "cell_type": "code",
      "source": [
        "#unknown dimension:you are only allowed to have one unknwon dimension pass-1\n",
        "x=np.array([1,2,3,4,5,6,7,8,9,10,11,12])\n",
        "y=y.reshape(3,4,-1)\n",
        "print(y)"
      ],
      "metadata": {
        "colab": {
          "base_uri": "https://localhost:8080/"
        },
        "id": "iewlXUNXY2gi",
        "outputId": "37f6286c-3b56-4916-c3e6-c38813e9a55e"
      },
      "execution_count": null,
      "outputs": [
        {
          "output_type": "stream",
          "name": "stdout",
          "text": [
            "[[[ 1]\n",
            "  [ 2]\n",
            "  [ 3]\n",
            "  [ 4]]\n",
            "\n",
            " [[ 5]\n",
            "  [ 6]\n",
            "  [ 7]\n",
            "  [ 8]]\n",
            "\n",
            " [[ 9]\n",
            "  [10]\n",
            "  [11]\n",
            "  [12]]]\n"
          ]
        }
      ]
    },
    {
      "cell_type": "code",
      "source": [
        "# flatteing the array by converting multidimnesional array in 1-D\n",
        "x=np.array([[1,2,3],[4,5,6]])\n",
        "y=x.reshape(-1)\n",
        "print(y)"
      ],
      "metadata": {
        "colab": {
          "base_uri": "https://localhost:8080/"
        },
        "id": "t4R_4liXaQGp",
        "outputId": "456513bd-8d7c-48bd-b723-2128b7f7ffc4"
      },
      "execution_count": null,
      "outputs": [
        {
          "output_type": "stream",
          "name": "stdout",
          "text": [
            "[1 2 3 4 5 6]\n"
          ]
        }
      ]
    },
    {
      "cell_type": "code",
      "source": [
        "# There are alot of functions for changing the shape of ana rray in numpy like flatten.ravel also rearranging the element rot90,flip,fliplr,flipud,they all are\n",
        "# actually comes under advanced numpy"
      ],
      "metadata": {
        "id": "QBL_f1DqaQW7"
      },
      "execution_count": null,
      "outputs": []
    },
    {
      "cell_type": "code",
      "source": [
        "#Array Iterating-means going through the element one by one step by step.like for loop\n",
        "\n",
        "#iterate the element of 1-D \n",
        "x=np.array([1,2,3,4])\n",
        "for i in x:\n",
        "  print(i)"
      ],
      "metadata": {
        "colab": {
          "base_uri": "https://localhost:8080/"
        },
        "id": "GqkoTSFCaQkx",
        "outputId": "e6025992-95f6-4e12-c615-59d0d836219e"
      },
      "execution_count": null,
      "outputs": [
        {
          "output_type": "stream",
          "name": "stdout",
          "text": [
            "1\n",
            "2\n",
            "3\n",
            "4\n"
          ]
        }
      ]
    },
    {
      "cell_type": "code",
      "source": [
        "x=np.array([[1,2,3,4],[5,6,7,8]])\n",
        "for i in x:\n",
        "  print(i)"
      ],
      "metadata": {
        "colab": {
          "base_uri": "https://localhost:8080/"
        },
        "id": "swsFNqU8dqu5",
        "outputId": "01f0f2a8-8840-4a1d-ac67-793d742e2e3a"
      },
      "execution_count": null,
      "outputs": [
        {
          "output_type": "stream",
          "name": "stdout",
          "text": [
            "[1 2 3 4]\n",
            "[5 6 7 8]\n"
          ]
        }
      ]
    },
    {
      "cell_type": "code",
      "source": [
        "#iterate on each scalar element of the 2-d \n",
        "x=np.array([[1,2,3,4],[5,6,7,8]])\n",
        "for i in x:\n",
        "  for a in i:\n",
        "    print(a)"
      ],
      "metadata": {
        "colab": {
          "base_uri": "https://localhost:8080/"
        },
        "id": "dhv2LH-HdqxS",
        "outputId": "6de46bbe-b7e4-42fa-9b6a-8754fd300b5c"
      },
      "execution_count": null,
      "outputs": [
        {
          "output_type": "stream",
          "name": "stdout",
          "text": [
            "1\n",
            "2\n",
            "3\n",
            "4\n",
            "5\n",
            "6\n",
            "7\n",
            "8\n"
          ]
        }
      ]
    },
    {
      "cell_type": "code",
      "source": [
        "#Iterate 3-D\n",
        "x=np.array([[[1,2,3],[4,5,6],[7,8,9]]])\n",
        "for i in x:\n",
        "  for a in i:\n",
        "    for b in a:\n",
        "      print(b)"
      ],
      "metadata": {
        "colab": {
          "base_uri": "https://localhost:8080/"
        },
        "id": "PYN6eZpzeUkT",
        "outputId": "7571e8d2-d66a-4f23-dc5c-a4eeb002310e"
      },
      "execution_count": null,
      "outputs": [
        {
          "output_type": "stream",
          "name": "stdout",
          "text": [
            "1\n",
            "2\n",
            "3\n",
            "4\n",
            "5\n",
            "6\n",
            "7\n",
            "8\n",
            "9\n"
          ]
        }
      ]
    },
    {
      "cell_type": "code",
      "source": [
        "#Iterate arrays using the nditer() function\n",
        "# Now we will iterate on each scalar element\n",
        "\n",
        "x=np.array([[[1,2],[4,5],[6,7],[8,9]]])\n",
        "for i in np.nditer(x):\n",
        "  print(i)"
      ],
      "metadata": {
        "colab": {
          "base_uri": "https://localhost:8080/"
        },
        "id": "FLt4aqsKet9-",
        "outputId": "cbc92ae1-0527-4973-a859-9a31422f1e53"
      },
      "execution_count": null,
      "outputs": [
        {
          "output_type": "stream",
          "name": "stdout",
          "text": [
            "1\n",
            "2\n",
            "4\n",
            "5\n",
            "6\n",
            "7\n",
            "8\n",
            "9\n"
          ]
        }
      ]
    },
    {
      "cell_type": "code",
      "source": [
        "#Now we will iterate with different step size\n",
        "x=np.array([[1,2,3,4],[5,6,7,8]])\n",
        "for i in np.nditer(x[:,::2]):\n",
        "  print(i)"
      ],
      "metadata": {
        "colab": {
          "base_uri": "https://localhost:8080/"
        },
        "id": "ZZpMWHVHeuIU",
        "outputId": "bce112e9-a3dc-4363-bb5d-83dd333fcbed"
      },
      "execution_count": null,
      "outputs": [
        {
          "output_type": "stream",
          "name": "stdout",
          "text": [
            "1\n",
            "3\n",
            "5\n",
            "7\n"
          ]
        }
      ]
    },
    {
      "cell_type": "code",
      "source": [
        "#Joining Array\n",
        "x=np.array([1,2,3])\n",
        "y=np.array([4,5,6])\n",
        "z=np.concatenate((x,y))\n",
        "print(z)"
      ],
      "metadata": {
        "colab": {
          "base_uri": "https://localhost:8080/"
        },
        "id": "RapJe-OoeuTo",
        "outputId": "343bfaef-7a8d-4895-b89c-ba93e8daf717"
      },
      "execution_count": null,
      "outputs": [
        {
          "output_type": "stream",
          "name": "stdout",
          "text": [
            "[1 2 3 4 5 6]\n"
          ]
        }
      ]
    },
    {
      "cell_type": "code",
      "source": [
        "#Joining of 2-d arrays with rows(axis=1)\n",
        "x=np.array([[1,2],[4,5]])\n",
        "y=np.array([[6,7],[8,9]])\n",
        "z=np.concatenate((x,y),axis=1)\n",
        "print(z)"
      ],
      "metadata": {
        "colab": {
          "base_uri": "https://localhost:8080/"
        },
        "id": "ErT96ZnmeUnx",
        "outputId": "cfd12726-c1fa-4224-c1e3-4379973a086a"
      },
      "execution_count": null,
      "outputs": [
        {
          "output_type": "stream",
          "name": "stdout",
          "text": [
            "[[1 2 6 7]\n",
            " [4 5 8 9]]\n"
          ]
        }
      ]
    },
    {
      "cell_type": "code",
      "source": [
        "#Joining array using the stack function:\n",
        "x=np.array([[1,2],[4,5]])\n",
        "y=np.array([[6,7],[8,9]])\n",
        "z=np.stack((x,y),axis=1)\n",
        "print(z)"
      ],
      "metadata": {
        "colab": {
          "base_uri": "https://localhost:8080/"
        },
        "id": "QU65GJ63eUvh",
        "outputId": "e5b35d30-4b7c-4532-acae-5050aa2d3e4b"
      },
      "execution_count": null,
      "outputs": [
        {
          "output_type": "stream",
          "name": "stdout",
          "text": [
            "[[[1 2]\n",
            "  [6 7]]\n",
            "\n",
            " [[4 5]\n",
            "  [8 9]]]\n"
          ]
        }
      ]
    },
    {
      "cell_type": "code",
      "source": [
        "x=np.array([[1,2],[4,5]])\n",
        "y=np.array([[6,7],[8,9]])\n",
        "z=np.hstack((x,y))\n",
        "print(z)"
      ],
      "metadata": {
        "colab": {
          "base_uri": "https://localhost:8080/"
        },
        "id": "94P2XLDaeUx4",
        "outputId": "fa4efda1-370d-4142-b597-0749b359af51"
      },
      "execution_count": null,
      "outputs": [
        {
          "output_type": "stream",
          "name": "stdout",
          "text": [
            "[[1 2 6 7]\n",
            " [4 5 8 9]]\n"
          ]
        }
      ]
    },
    {
      "cell_type": "code",
      "source": [
        "x=np.array([[1,2],[4,5]])\n",
        "y=np.array([[6,7],[8,9]])\n",
        "z=np.vstack((x,y))\n",
        "print(z)"
      ],
      "metadata": {
        "colab": {
          "base_uri": "https://localhost:8080/"
        },
        "id": "35L6IWNwlhWd",
        "outputId": "63099f01-98ba-4d10-db02-bee72fd29c6e"
      },
      "execution_count": null,
      "outputs": [
        {
          "output_type": "stream",
          "name": "stdout",
          "text": [
            "[[1 2]\n",
            " [4 5]\n",
            " [6 7]\n",
            " [8 9]]\n"
          ]
        }
      ]
    },
    {
      "cell_type": "code",
      "source": [
        "# Random Numbers-something that cannot be predicted logically\n",
        "#Now we will generate a random number\n",
        "\n",
        "from numpy import random\n",
        "x=random.randint(100)\n",
        "print(x)\n"
      ],
      "metadata": {
        "colab": {
          "base_uri": "https://localhost:8080/"
        },
        "id": "7b6Bs3DBeU1W",
        "outputId": "b2099ffe-ecff-463d-f719-4f60b6f11872"
      },
      "execution_count": null,
      "outputs": [
        {
          "output_type": "stream",
          "name": "stdout",
          "text": [
            "46\n"
          ]
        }
      ]
    },
    {
      "cell_type": "code",
      "source": [
        "# you can also generate float() via rand() from 0 to 1\n",
        "from numpy import random\n",
        "x=random.rand()\n",
        "print(x)\n"
      ],
      "metadata": {
        "colab": {
          "base_uri": "https://localhost:8080/"
        },
        "id": "O78PGBUCdq0v",
        "outputId": "21937eca-d995-4277-acc9-4faa7b623be7"
      },
      "execution_count": null,
      "outputs": [
        {
          "output_type": "stream",
          "name": "stdout",
          "text": [
            "0.11618051728002499\n"
          ]
        }
      ]
    },
    {
      "cell_type": "code",
      "source": [
        "from numpy import random\n",
        "x=random.rand(100)\n",
        "print(x)\n"
      ],
      "metadata": {
        "id": "X7ZPuTzxxIzM"
      },
      "execution_count": null,
      "outputs": []
    },
    {
      "cell_type": "code",
      "source": [
        "#You can also generate random array.\n",
        "x=random.randint(100,size=(5))\n",
        "print(x)"
      ],
      "metadata": {
        "colab": {
          "base_uri": "https://localhost:8080/"
        },
        "id": "Ci-Ze2ASxJCe",
        "outputId": "f2d4b3b3-61da-4759-8b32-dde31932cd08"
      },
      "execution_count": null,
      "outputs": [
        {
          "output_type": "stream",
          "name": "stdout",
          "text": [
            "[60  4 76 49  0]\n"
          ]
        }
      ]
    },
    {
      "cell_type": "code",
      "source": [
        "#You can also generate a 2-d array with 3 rows each rows containing 5 random int from o0 to 1000\n",
        "x=random.randint(100,size=(3,5))\n",
        "print(x)"
      ],
      "metadata": {
        "colab": {
          "base_uri": "https://localhost:8080/"
        },
        "id": "B670CyFWypwh",
        "outputId": "fb4bf196-5a49-4be9-ee96-b0694d4a4f4b"
      },
      "execution_count": null,
      "outputs": [
        {
          "output_type": "stream",
          "name": "stdout",
          "text": [
            "[[30 93 33 24 60]\n",
            " [51 13 25 96 50]\n",
            " [46 11  5 81 66]]\n"
          ]
        }
      ]
    },
    {
      "cell_type": "code",
      "source": [
        "x=random.rand(5)\n",
        "print(x)"
      ],
      "metadata": {
        "id": "t1n_hFubyp4B"
      },
      "execution_count": null,
      "outputs": []
    },
    {
      "cell_type": "code",
      "source": [],
      "metadata": {
        "id": "ejHibrYkyp7f"
      },
      "execution_count": null,
      "outputs": []
    }
  ]
}