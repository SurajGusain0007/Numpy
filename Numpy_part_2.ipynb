{
  "nbformat": 4,
  "nbformat_minor": 0,
  "metadata": {
    "colab": {
      "provenance": [],
      "authorship_tag": "ABX9TyPNClRw1X02u62mybc/tLj5",
      "include_colab_link": true
    },
    "kernelspec": {
      "name": "python3",
      "display_name": "Python 3"
    },
    "language_info": {
      "name": "python"
    }
  },
  "cells": [
    {
      "cell_type": "markdown",
      "metadata": {
        "id": "view-in-github",
        "colab_type": "text"
      },
      "source": [
        "<a href=\"https://colab.research.google.com/github/SurajGusain0007/Numpy/blob/main/Numpy_part_2.ipynb\" target=\"_parent\"><img src=\"https://colab.research.google.com/assets/colab-badge.svg\" alt=\"Open In Colab\"/></a>"
      ]
    },
    {
      "cell_type": "code",
      "execution_count": null,
      "metadata": {
        "id": "vBR8T05EmBkZ"
      },
      "outputs": [],
      "source": [
        "import numpy as np"
      ]
    },
    {
      "cell_type": "code",
      "source": [
        "#Splitting arrays in numpy\n",
        "#array_split()\n",
        "#split the array in 3 parts\n",
        "x=np.array([1,2,3,4,5,6])\n",
        "y=np.array_split(x,3)\n",
        "print(y)"
      ],
      "metadata": {
        "colab": {
          "base_uri": "https://localhost:8080/"
        },
        "id": "z71fPMnxmG1C",
        "outputId": "2838c75c-711a-4336-80df-6d661bc64132"
      },
      "execution_count": null,
      "outputs": [
        {
          "output_type": "stream",
          "name": "stdout",
          "text": [
            "[array([1, 2]), array([3, 4]), array([5, 6])]\n"
          ]
        }
      ]
    },
    {
      "cell_type": "code",
      "source": [
        "# Split into 4 parts\n",
        "x=np.array([1,2,3,4,5,6])\n",
        "y=np.array_split(x,4)\n",
        "print(y)"
      ],
      "metadata": {
        "colab": {
          "base_uri": "https://localhost:8080/"
        },
        "id": "Xfa46zlAmdua",
        "outputId": "a35958fd-66f2-4210-a4b2-673e94870496"
      },
      "execution_count": null,
      "outputs": [
        {
          "output_type": "stream",
          "name": "stdout",
          "text": [
            "[array([1, 2]), array([3, 4]), array([5]), array([6])]\n"
          ]
        }
      ]
    },
    {
      "cell_type": "code",
      "source": [
        "#Split into array\n",
        "x=np.array([1,2,3,4,5,6])\n",
        "y=np.array_split(x,3)\n",
        "print(y[0])\n",
        "print(y[1])\n",
        "print(y[2])"
      ],
      "metadata": {
        "colab": {
          "base_uri": "https://localhost:8080/"
        },
        "id": "zM-6kwsDmwd9",
        "outputId": "90810668-a33d-4314-c634-676f6771a5f7"
      },
      "execution_count": null,
      "outputs": [
        {
          "output_type": "stream",
          "name": "stdout",
          "text": [
            "[1 2]\n",
            "[3 4]\n",
            "[5 6]\n"
          ]
        }
      ]
    },
    {
      "cell_type": "code",
      "source": [
        "#Splitting the 2-d array\n",
        "x=np.array([[1,2],[4,5],[6,7],[8,9],[10,11]] )\n",
        "y=np.array_split(x,3)\n",
        "print(y)"
      ],
      "metadata": {
        "colab": {
          "base_uri": "https://localhost:8080/"
        },
        "id": "olsvXKe2nNTF",
        "outputId": "16bc1466-98ff-4ae6-c85b-f78565ed6f91"
      },
      "execution_count": null,
      "outputs": [
        {
          "output_type": "stream",
          "name": "stdout",
          "text": [
            "[array([[1, 2],\n",
            "       [4, 5]]), array([[6, 7],\n",
            "       [8, 9]]), array([[10, 11]])]\n"
          ]
        }
      ]
    },
    {
      "cell_type": "code",
      "source": [
        "#splittting the 2-D into three 2-D along with axis\n",
        "x=np.array([[1,2,3],[4,5,6],[7,8,9],[10,11,12],[13,14,15]])\n",
        "y=np.array_split(x,3)\n",
        "print(y)"
      ],
      "metadata": {
        "colab": {
          "base_uri": "https://localhost:8080/"
        },
        "id": "xw5fGxoznol8",
        "outputId": "3d56cb83-8ef4-4a73-db81-fe9e1bf65c5c"
      },
      "execution_count": null,
      "outputs": [
        {
          "output_type": "stream",
          "name": "stdout",
          "text": [
            "[array([[1, 2, 3],\n",
            "       [4, 5, 6]]), array([[ 7,  8,  9],\n",
            "       [10, 11, 12]]), array([[13, 14, 15]])]\n"
          ]
        }
      ]
    },
    {
      "cell_type": "code",
      "source": [
        "#Array Searching--you can search an array for a certain value and return the indexes that get the match\n",
        "#where()\n",
        "x=np.array([1,2,3,4,5,4,7,7])\n",
        "y=np.where(x==4)\n",
        "print(y)\n"
      ],
      "metadata": {
        "colab": {
          "base_uri": "https://localhost:8080/"
        },
        "id": "fvBen66Cooji",
        "outputId": "79f9cb26-7839-43dd-a09d-a39d48654e10"
      },
      "execution_count": null,
      "outputs": [
        {
          "output_type": "stream",
          "name": "stdout",
          "text": [
            "(array([3, 5]),)\n"
          ]
        }
      ]
    },
    {
      "cell_type": "code",
      "source": [
        "#Now we will find the indexes where the values are even\n",
        "x=np.array([1,2,3,4,5,4,7,7])\n",
        "y=np.where(x%2==0)\n",
        "print(y)"
      ],
      "metadata": {
        "colab": {
          "base_uri": "https://localhost:8080/"
        },
        "id": "pQ68jrU6pFQu",
        "outputId": "f7b4a4a2-a63a-44b6-be1c-c2c34196eac1"
      },
      "execution_count": null,
      "outputs": [
        {
          "output_type": "stream",
          "name": "stdout",
          "text": [
            "(array([1, 3, 5]),)\n"
          ]
        }
      ]
    },
    {
      "cell_type": "code",
      "source": [
        "#Searchsorted:Perform Binary search in array\n",
        "#we will now find the index where the value 7 should be insterted.\n",
        "x=np.array([6,7,8,9])\n",
        "y=np.searchsorted(x,7)\n",
        "print(y)\n"
      ],
      "metadata": {
        "colab": {
          "base_uri": "https://localhost:8080/"
        },
        "id": "ouYMIZdEpZVy",
        "outputId": "fb043b39-1db9-4503-ad20-fad16e56252a"
      },
      "execution_count": null,
      "outputs": [
        {
          "output_type": "stream",
          "name": "stdout",
          "text": [
            "1\n"
          ]
        }
      ]
    },
    {
      "cell_type": "code",
      "source": [
        "#Now we will search from right side\n",
        "x=np.array([6,7,8,9])\n",
        "y=np.searchsorted(x,7,side='right')\n",
        "print(y)\n"
      ],
      "metadata": {
        "colab": {
          "base_uri": "https://localhost:8080/"
        },
        "id": "JRU9J8j0p-Wv",
        "outputId": "e799e101-025a-4916-d4ac-76f5ac1ac35e"
      },
      "execution_count": null,
      "outputs": [
        {
          "output_type": "stream",
          "name": "stdout",
          "text": [
            "2\n"
          ]
        }
      ]
    },
    {
      "cell_type": "code",
      "source": [
        "#How to search multiple value\n",
        "x=np.array([6,7,8,9])\n",
        "y=np.searchsorted(x,[2,4,11])\n",
        "print(y)\n"
      ],
      "metadata": {
        "colab": {
          "base_uri": "https://localhost:8080/"
        },
        "id": "stprJKrDqIvS",
        "outputId": "e811b578-3e62-4eed-893d-cdba9db1c79b"
      },
      "execution_count": null,
      "outputs": [
        {
          "output_type": "stream",
          "name": "stdout",
          "text": [
            "[0 0 4]\n"
          ]
        }
      ]
    },
    {
      "cell_type": "code",
      "source": [
        "#Numpy sorting array\n",
        "#sort()--the numpy ndarray object has a function which is called sort() and this will sort a specified array\n",
        "\n",
        "x=np.array([11,3,4,2,5])\n",
        "print(np.sort(x))"
      ],
      "metadata": {
        "colab": {
          "base_uri": "https://localhost:8080/"
        },
        "id": "WMhk8P84qodP",
        "outputId": "2c73a23c-e7a0-4017-beab-797c01455447"
      },
      "execution_count": null,
      "outputs": [
        {
          "output_type": "stream",
          "name": "stdout",
          "text": [
            "[ 2  3  4  5 11]\n"
          ]
        }
      ]
    },
    {
      "cell_type": "code",
      "source": [
        "#sort the array alphabatically\n",
        "x=np.array(['banana','apple','grapes'])\n",
        "print(np.sort(x))"
      ],
      "metadata": {
        "colab": {
          "base_uri": "https://localhost:8080/"
        },
        "id": "Z4aMTAu-qofZ",
        "outputId": "cb8c4e0d-3174-480f-bd76-b4ef5476f513"
      },
      "execution_count": null,
      "outputs": [
        {
          "output_type": "stream",
          "name": "stdout",
          "text": [
            "['apple' 'banana' 'grapes']\n"
          ]
        }
      ]
    },
    {
      "cell_type": "code",
      "source": [
        "#sorting 2-d array\n",
        "x=np.array([[4,3,2],[23,12,11]])\n",
        "print(np.sort(x))"
      ],
      "metadata": {
        "colab": {
          "base_uri": "https://localhost:8080/"
        },
        "id": "7cvC9PpZqoil",
        "outputId": "03396e22-d5fc-4753-8707-f8e1a66e0b41"
      },
      "execution_count": null,
      "outputs": [
        {
          "output_type": "stream",
          "name": "stdout",
          "text": [
            "[[ 2  3  4]\n",
            " [11 12 23]]\n"
          ]
        }
      ]
    },
    {
      "cell_type": "code",
      "source": [
        "# Getting some elements out of an existing array and creating a new array is called filterting\n",
        "# A boolean index list is a list of boolean corresponding of index t or f\n",
        "\n",
        "x=np.array([12,13,14,15])\n",
        "y=[True,False,True,False]\n",
        "z=x[y]\n",
        "print(z)"
      ],
      "metadata": {
        "colab": {
          "base_uri": "https://localhost:8080/"
        },
        "id": "o8t9hPvttsyp",
        "outputId": "1c3eb8b9-685b-4aa4-fb1e-9ff90adbdca2"
      },
      "execution_count": null,
      "outputs": [
        {
          "output_type": "stream",
          "name": "stdout",
          "text": [
            "[12 14]\n"
          ]
        }
      ]
    },
    {
      "cell_type": "code",
      "source": [
        "# Now we will create a filter array\n",
        "x=np.array([1,2,3,4])\n",
        "y=[]\n",
        "for i in x:\n",
        "  if i>2:\n",
        "    y.append(True)\n",
        "  else:\n",
        "    y.append(False)\n",
        "z=x[y]\n",
        "print(y)\n",
        "print(z)"
      ],
      "metadata": {
        "colab": {
          "base_uri": "https://localhost:8080/"
        },
        "id": "RsECSV3XuW5r",
        "outputId": "25ba17c6-8b48-4fe2-cad6-289e6ea6f54c"
      },
      "execution_count": null,
      "outputs": [
        {
          "output_type": "stream",
          "name": "stdout",
          "text": [
            "[False, False, True, True]\n",
            "[3 4]\n"
          ]
        }
      ]
    },
    {
      "cell_type": "code",
      "source": [
        "# Random meaning - something that cannot be predicted logically.\n",
        "# Now we will generate a random number from 0 to 100\n",
        "from numpy import random \n",
        "sharad = random.randint(100)\n",
        "print(sharad) \n",
        "\n",
        "# You can also genetrate float() via rand() from 0 to 1\n",
        "from numpy import random \n",
        "sharad = random.rand()\n",
        "print(sharad) \n",
        "\n",
        "# You can also generate random Array.\n",
        "# we will generate a 1-D array containing 5 random int from 0 to 100:\n",
        "from numpy import random \n",
        "sharad = random.randint(100, size=(5))\n",
        "print(sharad) \n",
        "\n",
        "# You can also generate random Array.\n",
        "# we will generate a 2-D array with 3 rows, each row  containing 5 random int from 0 to 100:\n",
        "from numpy import random \n",
        "sharad = random.randint(100, size=(3, 5))\n",
        "print(sharad) \n",
        "\n",
        "# You can also generate random Array.\n",
        "# we will generate a 1-D array containing 5 random float:\n",
        "from numpy import random \n",
        "sharad = random.rand(5)\n",
        "print(sharad) \n",
        "\n",
        "# You can also generate random Array.\n",
        "# we will generate a 2-D array with 3 rows, each containing 5 random float:\n",
        "from numpy import random \n",
        "sharad = random.rand(3, 5)\n",
        "print(sharad) \n",
        "\n",
        "# you can also generate random numbers from an array\n",
        "# choice()\n",
        "\n",
        "from numpy import random \n",
        "sharad = random.choice([3,5,7,9,1,4,6])\n",
        "print(sharad) \n",
        "\n",
        "# you can also generate random numbers from an 2-D array\n",
        "# choice()\n",
        "\n",
        "from numpy import random \n",
        "sharad = random.choice([3,5,7,9,1,4,6], size=(3, 5))\n",
        "print(sharad) "
      ],
      "metadata": {
        "id": "eztqB91OzPqo",
        "colab": {
          "base_uri": "https://localhost:8080/"
        },
        "outputId": "17a1bdfb-d48a-421a-9d4c-b01e32f5c096"
      },
      "execution_count": null,
      "outputs": [
        {
          "output_type": "stream",
          "name": "stdout",
          "text": [
            "63\n",
            "0.9642799631473536\n",
            "[61 47 22 32 76]\n",
            "[[27 74 22 59 92]\n",
            " [66 29 32 61 93]\n",
            " [26 74 69 65 89]]\n",
            "[0.36885013 0.92856623 0.52668095 0.69816996 0.65393192]\n",
            "[[0.20437323 0.44634349 0.07984244 0.42729429 0.7011156 ]\n",
            " [0.56226889 0.7182829  0.05141823 0.35233695 0.73165041]\n",
            " [0.38430593 0.06127199 0.30185542 0.17256573 0.43082351]]\n",
            "9\n",
            "[[4 9 3 6 7]\n",
            " [6 1 5 1 4]\n",
            " [1 7 5 5 6]]\n"
          ]
        }
      ]
    },
    {
      "cell_type": "code",
      "source": [
        "#Random Distributions\n",
        "# Data distributions is a list of all possible value and how often each value error.\n",
        "#Such list are important when working with statistics and data science\n",
        "#Random distributions:probability distributions\n",
        "\n",
        "#now we will generate 1-d with 100 values where each value has to be 3,5,7,9\n",
        "# the probability for the value 3 is set to be 0.1\n",
        "\n",
        "# the probability for the value 3 is set to be 0.3\n",
        "\n",
        "# the probability for the value 3 is set to be 0.6\n",
        "\n",
        "# the probability for the value 3 is set to be 0.\n",
        "\n",
        "# the sum of all probability numbers should be 1\n",
        "\n",
        "from numpy import random\n",
        "x=random.choice([3,5,7,9],p=[0.1,0.3,0.6,0.0],size=(100))\n",
        "print(x)\n"
      ],
      "metadata": {
        "colab": {
          "base_uri": "https://localhost:8080/"
        },
        "id": "iQ9lbmQ_41xd",
        "outputId": "2e16ccb7-95aa-431f-a47e-d176c75e5231"
      },
      "execution_count": null,
      "outputs": [
        {
          "output_type": "stream",
          "name": "stdout",
          "text": [
            "[7 5 7 5 5 7 7 7 3 7 7 5 7 5 3 7 7 7 5 7 7 7 7 7 7 5 5 7 7 7 5 3 7 7 7 5 7\n",
            " 7 7 5 7 5 7 7 7 7 5 7 7 7 7 7 7 7 7 7 7 7 7 5 5 7 3 5 7 7 7 3 5 5 7 3 7 5\n",
            " 5 7 7 5 7 5 7 7 7 5 7 5 7 7 7 5 5 7 7 5 7 5 5 7 5 3]\n"
          ]
        }
      ]
    },
    {
      "cell_type": "code",
      "source": [
        "#now we will return 2-d with 3 rows each containing 5 values\n",
        "from numpy import random\n",
        "x=random.choice([3,5,7,9],p=[0.1,0.3,0.6,0.0],size=(3,5))\n",
        "print(x)\n"
      ],
      "metadata": {
        "colab": {
          "base_uri": "https://localhost:8080/"
        },
        "id": "tz8zZD7D410R",
        "outputId": "decee9ef-4ab7-4da5-f445-5ab8e9e042b7"
      },
      "execution_count": null,
      "outputs": [
        {
          "output_type": "stream",
          "name": "stdout",
          "text": [
            "[[7 7 7 5 7]\n",
            " [7 3 7 5 7]\n",
            " [7 7 7 5 7]]\n"
          ]
        }
      ]
    },
    {
      "cell_type": "code",
      "source": [
        "# Permutation refers to an arrangement of elements like [3,2,1] is permutation of [1,2,3] and vice versa.\n",
        "# the numpy random module provides 2 methods: shuffle() and permutation().\n",
        "\n",
        "# shuffle() method make changes to the original array \n",
        "# now we will randomly suffle elemements for the below array:\n",
        "from numpy import random\n",
        "import numpy as np\n",
        "sharad = np.array([1,2,3,4,5])\n",
        "random.shuffle(sharad)\n",
        "print(sharad)\n",
        "\n",
        "# now we will generate a permutation of elements for the below array:\n",
        "# the permutation() method leaves the original array unchanged.\n",
        "from numpy import random\n",
        "import numpy as np\n",
        "sharad = np.array([1,2,3,4,5])\n",
        "print(random.permutation(sharad)) \n",
        " "
      ],
      "metadata": {
        "colab": {
          "base_uri": "https://localhost:8080/"
        },
        "id": "nHw2NgNX413o",
        "outputId": "0e026478-044c-4403-a377-cfcd8bdc1abf"
      },
      "execution_count": null,
      "outputs": [
        {
          "output_type": "stream",
          "name": "stdout",
          "text": [
            "[3 5 1 4 2]\n",
            "[3 5 1 2 4]\n"
          ]
        }
      ]
    },
    {
      "cell_type": "code",
      "source": [
        "# arithemtic operators: +, -, / , *\n",
        "# by using ufunc additional arguments like, where, dtype and out.\n",
        "# here now we will use add()\n",
        "import numpy as np\n",
        "sharad1 = np.array([10,11,12,13,14,15])\n",
        "sharad2 = np.array([20,21,22,23,24,25])\n",
        "sharadnew = np.add(sharad1, sharad2)\n",
        "print(sharadnew)\n",
        "\n",
        "#  example of substracting the value\n",
        "import numpy as np\n",
        "sharad1 = np.array([10,11,12,13,14,15])\n",
        "sharad2 = np.array([20,21,22,23,24,25])\n",
        "sharadnew = np.subtract(sharad1, sharad2)\n",
        "print(sharadnew)\n",
        "\n",
        "# example of multipication\n",
        "import numpy as np\n",
        "sharad1 = np.array([10,11,12,13,14,15])\n",
        "sharad2 = np.array([20,21,22,23,24,25])\n",
        "sharadnew = np.multiply(sharad1, sharad2)\n",
        "print(sharadnew)\n",
        "\n",
        "# example of divide()\n",
        "import numpy as np\n",
        "sharad1 = np.array([10,11,12,13,14,15])\n",
        "sharad2 = np.array([20,21,22,23,24,25])\n",
        "sharadnew = np.divide(sharad1, sharad2)\n",
        "print(sharadnew)\n",
        "\n",
        "# power() function raises the value from the 1st array to the power of the values of the 2nd array and return the results in a new array.\n",
        "\n",
        "import numpy as np\n",
        "sharad1 = np.array([10,20,30,40,50,60])\n",
        "sharad2 = np.array([3,5,6,8,2,33])\n",
        "sharadnew = np.power(sharad1, sharad2)\n",
        "print(sharadnew)\n",
        "\n",
        "# reminder- mod() and reminder() fucntions return the reminder of the 1st array corrosponding to the 2nd array, and result in the new array.\n",
        "import numpy as np\n",
        "sharad1 = np.array([10,20,30,40,50,60])\n",
        "sharad2 = np.array([3,7,9,8,2,33])\n",
        "sharadnew = np.mod(sharad1, sharad2)\n",
        "print(sharadnew)\n",
        "\n",
        "# by using reminder()\n",
        "import numpy as np\n",
        "sharad1 = np.array([10,20,30,40,50,60])\n",
        "sharad2 = np.array([3,7,9,8,2,33])\n",
        "sharadnew = np.remainder(sharad1, sharad2)\n",
        "print(sharadnew)\n",
        "\n",
        "# quotient and mod(reminder)\n",
        "# the divmod() function return both the quotient and mod.\n",
        "import numpy as np\n",
        "sharad1 = np.array([10,20,30,40,50,60])\n",
        "sharad2 = np.array([3,7,9,8,2,33])\n",
        "sharadnew = np.divmod(sharad1, sharad2)\n",
        "print(sharadnew)\n",
        "\n",
        "# absolute() and abs()- do the same operation but here we should use absolute() to avoid confusion with python inbuilt function math.abs().\n",
        "import numpy as np\n",
        "sharad = np.array([-1,-2,-3,-4,-5])\n",
        "sharadnew = np.absolute(sharad)\n",
        "print(sharadnew) \n"
      ],
      "metadata": {
        "colab": {
          "base_uri": "https://localhost:8080/"
        },
        "id": "JqbcnrZQGUY0",
        "outputId": "95e9b3e9-5c3e-4560-f3f4-5a2480b07432"
      },
      "execution_count": null,
      "outputs": [
        {
          "output_type": "stream",
          "name": "stdout",
          "text": [
            "[30 32 34 36 38 40]\n",
            "[-10 -10 -10 -10 -10 -10]\n",
            "[200 231 264 299 336 375]\n",
            "[0.5        0.52380952 0.54545455 0.56521739 0.58333333 0.6       ]\n",
            "[         1000       3200000     729000000 6553600000000          2500\n",
            "             0]\n",
            "[ 1  6  3  0  0 27]\n",
            "[ 1  6  3  0  0 27]\n",
            "(array([ 3,  2,  3,  5, 25,  1]), array([ 1,  6,  3,  0,  0, 27]))\n",
            "[1 2 3 4 5]\n"
          ]
        }
      ]
    },
    {
      "cell_type": "code",
      "source": [
        "# rounding decimals: there are 5 ways of rounding off the decimals in numpy: truncation, fix, rounding, floor, ceil.\n",
        "\n",
        "# truncation: trunc() and fix()\n",
        "# here we are truncating the below array, these command remove the decimals and return the float number closest to zero.\n",
        "import numpy as np\n",
        "sharad = np.trunc([-3.1666, 3.6667])\n",
        "print(sharad)\n",
        "\n",
        "# fix() example\n",
        "import numpy as np\n",
        "sharad = np.fix([-3.1666, 3.6667])\n",
        "print(sharad)\n",
        "\n",
        "# rounding: the around() function increments preceding digit or decimal by nearest to 1: if n>5 =1 or n<5 =0.\n",
        "import numpy as np\n",
        "sharad = np.around(3.1666, 2)\n",
        "print(sharad)\n",
        "\n",
        "# floor() - round off decimals to the lower integer.\n",
        "import numpy as np\n",
        "sharad = np.floor([-3.1666, 3.6667])\n",
        "print(sharad)\n",
        "\n",
        "# ceil(): round off decimals to the upper integer.\n",
        "import numpy as np\n",
        "sharad = np.ceil([-3.1666, 3.6667])\n",
        "print(sharad)"
      ],
      "metadata": {
        "colab": {
          "base_uri": "https://localhost:8080/"
        },
        "id": "G2hK6h11Ivtd",
        "outputId": "36b99c1e-d949-4cec-967f-ee3c0146b48b"
      },
      "execution_count": null,
      "outputs": [
        {
          "output_type": "stream",
          "name": "stdout",
          "text": [
            "[-3.  3.]\n",
            "[-3.  3.]\n",
            "3.17\n",
            "[-4.  3.]\n",
            "[-3.  4.]\n"
          ]
        }
      ]
    },
    {
      "cell_type": "code",
      "source": [
        "# summations: difference: addition is done between 2 arguments whereas summation happens over n elements.\n",
        "\n",
        "# adding the 2 array.\n",
        "import numpy as np\n",
        "sharad1 = np.array([1,2,3])\n",
        "sharad2 = np.array([1,2,3])\n",
        "sharadnew = np.add(sharad1, sharad2)\n",
        "print(sharadnew)\n",
        "\n",
        "# sum the values in 2 array:\n",
        "import numpy as np\n",
        "sharad1 = np.array([1,2,3])\n",
        "sharad2 = np.array([1,2,3])\n",
        "sharadnew = np.sum([sharad1, sharad2])\n",
        "print(sharadnew)\n",
        "\n",
        "# summation over an axis: if you specify axis=1, numpy will sum the number in each array.\n",
        "\n",
        "import numpy as np\n",
        "sharad1 = np.array([1,2,3])\n",
        "sharad2 = np.array([1,2,3])\n",
        "sharadnew = np.sum([sharad1, sharad2], axis=1)\n",
        "print(sharadnew)\n",
        "\n",
        "# cummulative sum: means partially adding thr element in array.\n",
        "# example: [1,2,3,4] would be [1, 1+2, 1+2+3, 1+2+3+4] = [1,3,6,10] represent by cumsum()\n",
        "import numpy as np\n",
        "sharad = np.array([1,2,3])\n",
        "sharadnew = np.cumsum(sharad)\n",
        "print(sharadnew)"
      ],
      "metadata": {
        "colab": {
          "base_uri": "https://localhost:8080/"
        },
        "id": "79XKbWSHIvwA",
        "outputId": "6bbc3422-176d-4a32-fbe6-8d1f52444eea"
      },
      "execution_count": null,
      "outputs": [
        {
          "output_type": "stream",
          "name": "stdout",
          "text": [
            "[2 4 6]\n",
            "12\n",
            "[6 6]\n",
            "[1 3 6]\n"
          ]
        }
      ]
    },
    {
      "cell_type": "code",
      "source": [
        "# products: use prod() function.\n",
        "# here we will find the product of the element of the below array:\n",
        "import numpy as np\n",
        "sharad = np.array([1,2,3,4]) # 1*2*3*4 = 24\n",
        "sharadnew = np.prod(sharad)\n",
        "print(sharadnew)\n",
        "\n",
        "# here we will find the product of elemets in 2 different array:\n",
        "import numpy as np\n",
        "sharad1 = np.array([1,2,3,4])\n",
        "sharad2 = np.array([5,6,7,8])\n",
        "sharadnew = np.prod([sharad1, sharad2]) # 1*2*3*4*5*6*7*8 = 40320\n",
        "print(sharadnew)\n",
        "\n",
        "# product over an axis\n",
        "import numpy as np\n",
        "sharad1 = np.array([1,2,3,4])\n",
        "sharad2 = np.array([5,6,7,8])\n",
        "sharadnew = np.prod([sharad1, sharad2], axis=1) \n",
        "print(sharadnew)\n",
        "\n",
        "# cummulative product:\n",
        "# example  the partial product of [1,2,3,4] is [1,1*2,1*2*3,1*2*3*4] = [1,2,6,24] represented by cumprod().\n",
        "import numpy as np\n",
        "sharad = np.array([5,6,7,8])\n",
        "sharadnew = np.cumprod(sharad)\n",
        "print(sharadnew)"
      ],
      "metadata": {
        "colab": {
          "base_uri": "https://localhost:8080/"
        },
        "id": "YQAAUBbHIvxq",
        "outputId": "d62ec232-bfb0-4e66-c1e6-ed5a40af8734"
      },
      "execution_count": null,
      "outputs": [
        {
          "output_type": "stream",
          "name": "stdout",
          "text": [
            "24\n",
            "40320\n",
            "[  24 1680]\n",
            "[   5   30  210 1680]\n"
          ]
        }
      ]
    },
    {
      "cell_type": "code",
      "source": [
        "# difference: use diff() function for finding the difference\n",
        "# example: [1,2,3,4],  the deiscreate difference of this would be [2-1, 3-2, 4-3] = [1,1,1] by using diff()\n",
        "import numpy as np\n",
        "sharad = np.array([10,15,25,5]) # [5, 10, -20] because 15-10=5, 25-15=10 and 5-25=-20\n",
        "sharadnew = np.diff(sharad)\n",
        "print(sharadnew)\n",
        "\n"
      ],
      "metadata": {
        "colab": {
          "base_uri": "https://localhost:8080/"
        },
        "id": "S6UpzAH4Iv0Y",
        "outputId": "bea9e861-1b17-4997-e908-dcf6e3dac122"
      },
      "execution_count": null,
      "outputs": [
        {
          "output_type": "stream",
          "name": "stdout",
          "text": [
            "[  5  10 -20]\n"
          ]
        }
      ]
    },
    {
      "cell_type": "code",
      "source": [
        "# finding LCM(Lowest Common Multiple)\n",
        "# here we will find the LCM of the 2 numbers:\n",
        "\n",
        "import numpy as np\n",
        "sharad1 = 4\n",
        "sharad2 = 6\n",
        "sharadnew = np.lcm(sharad1, sharad2)\n",
        "print(sharadnew)\n",
        "# the answers of the above is 12 because the LCM of both numbers (4*3=12 and 6*2=12) \n",
        "\n",
        "# finding the LCM in array:\n",
        "import numpy as np\n",
        "sharad = np.array([3,6,9])\n",
        "sharadnew = np.lcm.reduce(sharad) # the reduce() method will use the ufunc, in this case the lcm() function on each elemtn and it will reduce the array by 1 dimension.\n",
        "print(sharadnew)\n",
        "\n",
        "\n",
        "# here we will find the LCM of all of an array where the array contains all integers from 1 to 10.\n",
        "import numpy as np\n",
        "sharad = np.arange(1,11)\n",
        "sharadnew = np.lcm.reduce(sharad)\n",
        "print(sharadnew)"
      ],
      "metadata": {
        "colab": {
          "base_uri": "https://localhost:8080/"
        },
        "id": "yBlmuw7LIv35",
        "outputId": "4d26ad86-fcc2-45b4-cc72-013d3efc05f4"
      },
      "execution_count": null,
      "outputs": [
        {
          "output_type": "stream",
          "name": "stdout",
          "text": [
            "12\n",
            "18\n",
            "2520\n"
          ]
        }
      ]
    },
    {
      "cell_type": "code",
      "source": [
        "# finding GCD(Gretest common denominator), also known as HCF(Highest Common Factor)\n",
        "\n",
        "# here wew will find the HCF of the below 2 numbers:\n",
        "import numpy as np\n",
        "sharad1 = 6\n",
        "sharad2 = 9\n",
        "sharadnew = np.gcd(sharad1, sharad2)\n",
        "print(sharadnew) # answer will be 3 because that is the highest number  and both umber can be divided by (6/3=2 and 9/3=3)\n",
        "\n",
        "# finding the GCD in an array\n",
        "# the reduce() method will use the ufunc, in this case the gcd() function on each elemtn and it will reduce the array by 1 dimension.\n",
        "import numpy as np\n",
        "sharad = np.array([20,8,32,16,36])\n",
        "sharadnew = np.gcd.reduce(sharad)\n",
        "print(sharadnew)\n",
        "# it will return 4 because 4 is the highest number of all values that can be divided in between array"
      ],
      "metadata": {
        "colab": {
          "base_uri": "https://localhost:8080/"
        },
        "id": "DXBfNMSNGUbJ",
        "outputId": "b8734d01-f528-4bab-d92a-f2702b1065b7"
      },
      "execution_count": null,
      "outputs": [
        {
          "output_type": "stream",
          "name": "stdout",
          "text": [
            "3\n",
            "4\n"
          ]
        }
      ]
    },
    {
      "cell_type": "code",
      "source": [
        "# what is set? : a set is a collection of unique elements\n",
        "\n",
        "# for creating the set we use numpy's unique() method to find the unique elements from any array:\n",
        "# here we will convert the array with repeted elements to a set\n",
        "import numpy as np\n",
        "sharad = np.array([1,1,1,2,3,4,5,5,6,7])\n",
        "sharadnew = np.unique(sharad)\n",
        "print(sharadnew)\n",
        "\n",
        "# to find the unique values of 2 1D array, we will use union1d() method\n",
        "import numpy as np\n",
        "sharad1 = np.array([1,2,3,4])\n",
        "sharad2 = np.array([3,4,5,6])\n",
        "sharadnew = np.union1d(sharad1, sharad2)\n",
        "print(sharadnew)\n",
        "\n",
        "# to find the only values tat are present in both array, we will use intersect1d() method.\n",
        "import numpy as np\n",
        "sharad1 = np.array([1,2,3,4])\n",
        "sharad2 = np.array([3,4,5,6])\n",
        "sharadnew = np.intersect1d(sharad1, sharad2, assume_unique=True)\n",
        "print(sharadnew)\n",
        "\n",
        "# to find the only values that are in 1st set and NOT present in the 2nd set: use setfdiff1d()\n",
        "import numpy as np\n",
        "sharad1 = np.array([1,2,3,4])\n",
        "sharad2 = np.array([3,4,5,6])\n",
        "sharadnew = np.setdiff1d(sharad1, sharad2, assume_unique=True)\n",
        "print(sharadnew)\n",
        "\n",
        "# to find the only values that are NOT present in BOTH the sets, use setxor1d() method:\n",
        "import numpy as np\n",
        "sharad1 = np.array([1,2,3,4])\n",
        "sharad2 = np.array([3,4,5,6])\n",
        "sharadnew = np.setxor1d(sharad1, sharad2, assume_unique=True)\n",
        "print(sharadnew)\n",
        "\n",
        "\n",
        "\n",
        "\n",
        "\n",
        "\n"
      ],
      "metadata": {
        "colab": {
          "base_uri": "https://localhost:8080/"
        },
        "id": "gHDt_i8HGUep",
        "outputId": "5d39f720-425e-4f50-debe-9f4651440188"
      },
      "execution_count": null,
      "outputs": [
        {
          "output_type": "stream",
          "name": "stdout",
          "text": [
            "[1 2 3 4 5 6 7]\n",
            "[1 2 3 4 5 6]\n",
            "[3 4]\n",
            "[1 2]\n",
            "[1 2 5 6]\n"
          ]
        }
      ]
    }
  ]
}