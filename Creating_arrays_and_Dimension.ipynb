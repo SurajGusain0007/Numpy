{
  "nbformat": 4,
  "nbformat_minor": 0,
  "metadata": {
    "colab": {
      "provenance": [],
      "authorship_tag": "ABX9TyOQ/LbQdDg7/3z3I72k+NsT",
      "include_colab_link": true
    },
    "kernelspec": {
      "name": "python3",
      "display_name": "Python 3"
    },
    "language_info": {
      "name": "python"
    }
  },
  "cells": [
    {
      "cell_type": "markdown",
      "metadata": {
        "id": "view-in-github",
        "colab_type": "text"
      },
      "source": [
        "<a href=\"https://colab.research.google.com/github/SurajGusain0007/Numpy/blob/main/Creating_arrays_and_Dimension.ipynb\" target=\"_parent\"><img src=\"https://colab.research.google.com/assets/colab-badge.svg\" alt=\"Open In Colab\"/></a>"
      ]
    },
    {
      "cell_type": "code",
      "execution_count": null,
      "metadata": {
        "id": "6852IOvj4Ilz"
      },
      "outputs": [],
      "source": [
        "# Now we will create a numpy  ndarray object\n",
        "#the array object in numpy is call ndarry\n",
        "#array()"
      ]
    },
    {
      "cell_type": "code",
      "source": [
        "import numpy as np\n",
        "x=np.array([1,2,3,4,5])\n",
        "print(x)\n",
        "print(type(x))"
      ],
      "metadata": {
        "colab": {
          "base_uri": "https://localhost:8080/"
        },
        "id": "wU3khvIT4TE-",
        "outputId": "986cf760-2396-4c0e-c108-a85c7c696949"
      },
      "execution_count": 3,
      "outputs": [
        {
          "output_type": "stream",
          "name": "stdout",
          "text": [
            "[1 2 3 4 5]\n",
            "<class 'numpy.ndarray'>\n"
          ]
        }
      ]
    },
    {
      "cell_type": "code",
      "source": [
        "#We can also pass a list,tuple or any array like object and it will be converted to ndarray\n",
        "y=np.array((1,2,3,4,5))\n",
        "print(y)\n",
        "print((type(y)))"
      ],
      "metadata": {
        "colab": {
          "base_uri": "https://localhost:8080/"
        },
        "id": "IFupQsqQ4XqO",
        "outputId": "4083cf05-5799-4b8b-d07a-28579fc0c130"
      },
      "execution_count": 4,
      "outputs": [
        {
          "output_type": "stream",
          "name": "stdout",
          "text": [
            "[1 2 3 4 5]\n",
            "<class 'numpy.ndarray'>\n"
          ]
        }
      ]
    },
    {
      "cell_type": "code",
      "source": [
        "#Dimensions in array\n",
        "# A dimensions in Array is one level of array depth(nested array)\n",
        "#0-D-Scalars ,are the elements in an array,each value in an array is a 0-d array\n",
        "# Now we will create 0-D array with 42\n",
        "x=np.array(42)\n",
        "print(x)\n",
        "print(type(x))"
      ],
      "metadata": {
        "colab": {
          "base_uri": "https://localhost:8080/"
        },
        "id": "wcdII7O24YBu",
        "outputId": "123605eb-042c-4a25-ea1f-ac68c4621792"
      },
      "execution_count": 6,
      "outputs": [
        {
          "output_type": "stream",
          "name": "stdout",
          "text": [
            "42\n",
            "<class 'numpy.ndarray'>\n"
          ]
        }
      ]
    },
    {
      "cell_type": "code",
      "source": [
        "#1-d array-an array that has 0-d array as its elements is called 1-d array\n",
        "#or collection of 0-d array also called 1-D array\n",
        "y=np.array([1,2,3,4,5])\n",
        "print(y)\n"
      ],
      "metadata": {
        "colab": {
          "base_uri": "https://localhost:8080/"
        },
        "id": "QZmYp03c4YVR",
        "outputId": "60353b92-977e-4183-be50-232dbd26465d"
      },
      "execution_count": 7,
      "outputs": [
        {
          "output_type": "stream",
          "name": "stdout",
          "text": [
            "[1 2 3 4 5]\n"
          ]
        }
      ]
    },
    {
      "cell_type": "code",
      "source": [
        "#2-d array\n",
        "z=np.array([[1,2,3,4,5],[7,8,9,10,11]])\n",
        "print(z)\n",
        "print(type(z))"
      ],
      "metadata": {
        "colab": {
          "base_uri": "https://localhost:8080/"
        },
        "id": "QrdaDClF6yet",
        "outputId": "e24b84e8-6b68-4428-9d11-a971a8967e82"
      },
      "execution_count": 8,
      "outputs": [
        {
          "output_type": "stream",
          "name": "stdout",
          "text": [
            "[[ 1  2  3  4  5]\n",
            " [ 7  8  9 10 11]]\n",
            "<class 'numpy.ndarray'>\n"
          ]
        }
      ]
    },
    {
      "cell_type": "code",
      "source": [
        "# we will create a 3-D array with two 2-D array3-d array or collection of 2-d array\n",
        "x=np.array([[[1,2,3,4],[5,6,7,8]],\n",
        "           [[11,12,13,14],[15,16,17,18]]])\n",
        "print(x)"
      ],
      "metadata": {
        "colab": {
          "base_uri": "https://localhost:8080/"
        },
        "id": "-aPrmyd98S--",
        "outputId": "b5477efb-ca54-4788-d546-5f4f851c705f"
      },
      "execution_count": 9,
      "outputs": [
        {
          "output_type": "stream",
          "name": "stdout",
          "text": [
            "[[[ 1  2  3  4]\n",
            "  [ 5  6  7  8]]\n",
            "\n",
            " [[11 12 13 14]\n",
            "  [15 16 17 18]]]\n"
          ]
        }
      ]
    },
    {
      "cell_type": "code",
      "source": [
        "# Check how many dimensions the array have\n",
        "a=np.array(12)\n",
        "b=np.array([1,2,3,4])\n",
        "c=np.array([[1,2,3,4],[5,6,7,8]])\n",
        "d=np.array([[[1,2,3,4],[5,6,7,8]]\n",
        "            ,[[11,12,13,14],[15,16,17,18]]])\n",
        "print(a.ndim)\n",
        "print(b.ndim)\n",
        "print(c.ndim)\n",
        "print(d.ndim)"
      ],
      "metadata": {
        "colab": {
          "base_uri": "https://localhost:8080/"
        },
        "id": "7bHawi-d85fv",
        "outputId": "a152ae98-f820-4a1f-edf7-976ad1f9d444"
      },
      "execution_count": 10,
      "outputs": [
        {
          "output_type": "stream",
          "name": "stdout",
          "text": [
            "0\n",
            "1\n",
            "2\n",
            "3\n"
          ]
        }
      ]
    },
    {
      "cell_type": "code",
      "source": [
        "#create an array with 5 dim and verify that it has\n",
        "x=np.array([1,2,3,4,5],ndmin=5)\n",
        "print(x)\n",
        "print(\"No of dimension\",x.ndim)"
      ],
      "metadata": {
        "colab": {
          "base_uri": "https://localhost:8080/"
        },
        "id": "FBWSAa2S9xU2",
        "outputId": "f143e520-3a7c-4035-f119-422b1fbf8080"
      },
      "execution_count": 11,
      "outputs": [
        {
          "output_type": "stream",
          "name": "stdout",
          "text": [
            "[[[[[1 2 3 4 5]]]]]\n",
            "No of dimension 5\n"
          ]
        }
      ]
    },
    {
      "cell_type": "code",
      "source": [
        "x=np.array([[1,2,3,4,5],[6,7,8,9,10]],ndmin=5)\n",
        "print(x)\n",
        "print(\"No of dimension\",x.ndim)"
      ],
      "metadata": {
        "colab": {
          "base_uri": "https://localhost:8080/"
        },
        "id": "V3xOWY4p-LRw",
        "outputId": "5d8f551c-b891-47b1-919c-c15e587db770"
      },
      "execution_count": 12,
      "outputs": [
        {
          "output_type": "stream",
          "name": "stdout",
          "text": [
            "[[[[[ 1  2  3  4  5]\n",
            "    [ 6  7  8  9 10]]]]]\n",
            "No of dimension 5\n"
          ]
        }
      ]
    }
  ]
}